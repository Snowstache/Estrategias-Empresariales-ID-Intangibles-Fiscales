{
  "nbformat": 4,
  "nbformat_minor": 0,
  "metadata": {
    "colab": {
      "provenance": [],
      "toc_visible": true,
      "authorship_tag": "ABX9TyO1aPpyGtvZyWxyApPi6x5O",
      "include_colab_link": true
    },
    "kernelspec": {
      "name": "python3",
      "display_name": "Python 3"
    },
    "language_info": {
      "name": "python"
    }
  },
  "cells": [
    {
      "cell_type": "markdown",
      "metadata": {
        "id": "view-in-github",
        "colab_type": "text"
      },
      "source": [
        "<a href=\"https://colab.research.google.com/github/Snowstache/Estrategias-Empresariales-ID-Intangibles-Fiscales/blob/main/ID_Intangibles_EstrategIA_Fiscal.ipynb\" target=\"_parent\"><img src=\"https://colab.research.google.com/assets/colab-badge.svg\" alt=\"Open In Colab\"/></a>"
      ]
    },
    {
      "cell_type": "markdown",
      "source": [
        "# Introducción - Estrategias Empresariales: ID Intangibles Fiscales\n",
        "\n",
        "> Añadir blockquote\n",
        "\n"
      ],
      "metadata": {
        "id": "Lm5slfd6fkAC"
      }
    },
    {
      "cell_type": "markdown",
      "source": [
        "Pasos y secciones:"
      ],
      "metadata": {
        "id": "exUoAwR9fzm-"
      }
    },
    {
      "cell_type": "markdown",
      "source": [
        "# Código p/ **ID Institución** y/o **Empresa**"
      ],
      "metadata": {
        "id": "8Hcpi6ZzdaUX"
      }
    },
    {
      "cell_type": "markdown",
      "source": [
        "° Solución #1: Reconocer marcas en texto"
      ],
      "metadata": {
        "id": "o7yuvmpndg9m"
      }
    },
    {
      "cell_type": "code",
      "execution_count": null,
      "metadata": {
        "id": "vvhBmc7kW1-p"
      },
      "outputs": [],
      "source": [
        "import os\n",
        "\n",
        "import pathlib\n",
        "import textwrap\n",
        "\n",
        "import google.generativeai as genai\n",
        "\n",
        "from IPython.display import display\n",
        "from IPython.display import Markdown\n",
        "\n",
        "def to_markdown(text):\n",
        "  text = text.replace('•', '  *')\n",
        "  return Markdown(textwrap.indent(text, '> ', predicate=lambda _: True))\n",
        "\n",
        "\n",
        "genai.configure(api_key=os.environ[\"GEMINI_API_KEY\"])\n",
        "\n",
        "# Create the model\n",
        "generation_config = {\n",
        "  \"temperature\": 1.1,\n",
        "  \"top_p\": 0.95,\n",
        "  \"top_k\": 40,\n",
        "  \"max_output_tokens\": 8192,\n",
        "  \"response_mime_type\": \"text/plain\",\n",
        "}\n",
        "\n",
        "model = genai.GenerativeModel(\n",
        "  model_name=\"gemini-1.5-pro\",\n",
        "  generation_config=generation_config,\n",
        ")\n",
        "\n",
        "response = model.generate_content\n",
        "#response = model.generate_content([\"Write a short, engaging blog post based on this picture. It should include a description of the meal in the photo and talk about my journey meal prepping.\", img], stream=True)\n",
        "response.resolve()(img)\n",
        "#(\n",
        "to_markdown(response.text)\n",
        " #[\n",
        "  \"Identify all brand names mentioned in the input. Multiple products will be separated by commas.\",\n",
        "  \"input: What did TSLA, GOOG and DIS do today?\",\n",
        "  \"output: Tesla, Google, Walt Disney Co\",\n",
        "  \"input: Tick-tock goes the clock for Rolex\",\n",
        "  \"output: Rolex\",\n",
        "  \"input: Just dropped: adidas stan smith x homer simpson\",\n",
        "  \"output: Adidas, Stan Smith, The Simpsons\",\n",
        "  \"input: Breaking: lost family found in the amazon rain forest\",\n",
        "  \"output: (none)\",\n",
        "  \"input: Three short stories about coca-cola\",\n",
        "  \"output: Coca-Cola\",\n",
        "  \"input: A brief history of Benson & Hedges, Marlboro & Dunhill\",\n",
        "  \"output: Benson and Hedges, Marlboro, Dunhill\",\n",
        "  \"input: Three stocks to watch\",\n",
        "  \"output: (none)\",\n",
        "  \"input: Reebok pumps are back in vogue this season\",\n",
        "  \"output: Reebok\",\n",
        "  \"input: Peep the latest dog trends in vogue mag\",\n",
        "  \"output: \",\n",
        "#])\n",
        "\n",
        "print(response.text)"
      ]
    },
    {
      "cell_type": "markdown",
      "source": [
        "# Código p/ **Extraer**, **Enlistar** objetos en Imgs\n"
      ],
      "metadata": {
        "id": "7T5fjrUrd4U8"
      }
    },
    {
      "cell_type": "markdown",
      "source": [
        "° Solución #1\n",
        "\n"
      ],
      "metadata": {
        "id": "-uflATqKd0pl"
      }
    },
    {
      "cell_type": "code",
      "source": [
        "import os\n",
        "import google.generativeai as genai\n",
        "\n",
        "genai.configure(api_key=os.environ[\"GEMINI_API_KEY\"])\n",
        "\n",
        "def upload_to_gemini(path, mime_type=None):\n",
        "  \"\"\"Uploads the given file to Gemini.\n",
        "\n",
        "  See https://ai.google.dev/gemini-api/docs/prompting_with_media\n",
        "  \"\"\"\n",
        "  file = genai.upload_file(path, mime_type=mime_type)\n",
        "  print(f\"Uploaded file '{file.display_name}' as: {file.uri}\")\n",
        "  return file\n",
        "\n",
        "# Create the model\n",
        "generation_config = {\n",
        "  \"temperature\": 0.9,\n",
        "  \"top_p\": 0.95,\n",
        "  \"top_k\": 40,\n",
        "  \"max_output_tokens\": 8192,\n",
        "  \"response_mime_type\": \"text/plain\",\n",
        "}\n",
        "\n",
        "model = genai.GenerativeModel(\n",
        "  model_name=\"gemini-1.5-flash\",\n",
        "  generation_config=generation_config,\n",
        ")\n",
        "\n",
        "# TODO Make these files available on the local file system\n",
        "# You may need to update the file paths\n",
        "files = [\n",
        "  upload_to_gemini(\"1TZ9XeAE7uzDongoI1NWrQ52OvwsbnrBS\", mime_type=\"application/octet-stream\"),\n",
        "]\n",
        "\n",
        "response = model.generate_content([\n",
        "  \"Extract the objects in the provided image and output them in a list in alphabetical order\",\n",
        "  \"Image: \",\n",
        "  \"List of Objects: - airplane\\n- coffee cup\\n- eiffel tower\\n- globe\\n- keyboard\\n- mouse\\n- money\\n- notebook\\n- passport\\n- pen\\n- sunglasses\\n- shopping cart\\n- tablet\",\n",
        "  \"Image: \",\n",
        "  \"List of Objects: - gardening gloves\\n- rake\\n- shovel\\n- plants\\n- pots\\n- watering can\",\n",
        "  \"Image: \",\n",
        "  files[0],\n",
        "  \"List of Objects: \",\n",
        "])\n",
        "\n",
        "print(response.text)"
      ],
      "metadata": {
        "id": "mqZwnjfCd3Dc"
      },
      "execution_count": null,
      "outputs": []
    },
    {
      "cell_type": "markdown",
      "source": [
        "# Código p/ **Análisis** y **Clasif de Sentimiento** en **texto**"
      ],
      "metadata": {
        "id": "zXTMIfyQevbo"
      }
    },
    {
      "cell_type": "markdown",
      "source": [
        "° Solución #1"
      ],
      "metadata": {
        "id": "wL50ZdZLe0j-"
      }
    },
    {
      "cell_type": "code",
      "source": [
        "import os\n",
        "import google.generativeai as genai\n",
        "\n",
        "genai.configure(api_key=os.environ[\"GEMINI_API_KEY\"])\n",
        "\n",
        "# Create the model\n",
        "generation_config = {\n",
        "  \"temperature\": 2,\n",
        "  \"top_p\": 0.95,\n",
        "  \"top_k\": 40,\n",
        "  \"max_output_tokens\": 8192,\n",
        "  \"response_mime_type\": \"text/plain\",\n",
        "}\n",
        "\n",
        "model = genai.GenerativeModel(\n",
        "  model_name=\"gemini-1.5-pro\",\n",
        "  generation_config=generation_config,\n",
        ")\n",
        "\n",
        "chat_session = model.start_chat(\n",
        "  history=[\n",
        "    {\n",
        "      \"role\": \"user\",\n",
        "      \"parts\": [\n",
        "        \"Analyze the sentiment of the following Tweets and classify them as POSITIVE, NEGATIVE, or NEUTRAL. \\\"It's so beautiful today!\\\"\",\n",
        "      ],\n",
        "    },\n",
        "    {\n",
        "      \"role\": \"model\",\n",
        "      \"parts\": [\n",
        "        \"POSITIVE\",\n",
        "      ],\n",
        "    },\n",
        "    {\n",
        "      \"role\": \"user\",\n",
        "      \"parts\": [\n",
        "        \"\\\"It's so cold today I can't feel my feet...\\\"\",\n",
        "      ],\n",
        "    },\n",
        "    {\n",
        "      \"role\": \"model\",\n",
        "      \"parts\": [\n",
        "        \"NEGATIVE\",\n",
        "      ],\n",
        "    },\n",
        "    {\n",
        "      \"role\": \"user\",\n",
        "      \"parts\": [\n",
        "        \"\\\"The weather today is perfectly adequate.\\\"\",\n",
        "      ],\n",
        "    },\n",
        "    {\n",
        "      \"role\": \"model\",\n",
        "      \"parts\": [\n",
        "        \"NEUTRAL\",\n",
        "      ],\n",
        "    },\n",
        "  ]\n",
        ")\n",
        "\n",
        "response = chat_session.send_message(\"INSERT_INPUT_HERE\")\n",
        "\n",
        "print(response.text)"
      ],
      "metadata": {
        "id": "RLvHyRy-e23g"
      },
      "execution_count": null,
      "outputs": []
    },
    {
      "cell_type": "markdown",
      "source": [
        "# Código p/ **Listado de Objetos** en **Img**"
      ],
      "metadata": {
        "id": "bw2C1ZnEgGH-"
      }
    },
    {
      "cell_type": "markdown",
      "source": [
        "° Solución #1:"
      ],
      "metadata": {
        "id": "jpdVX2SggRKb"
      }
    },
    {
      "cell_type": "code",
      "source": [
        "import os\n",
        "import google.generativeai as genai\n",
        "\n",
        "genai.configure(api_key=os.environ[\"GEMINI_API_KEY\"])\n",
        "\n",
        "def upload_to_gemini(path, mime_type=None):\n",
        "  \"\"\"Uploads the given file to Gemini.\n",
        "\n",
        "  See https://ai.google.dev/gemini-api/docs/prompting_with_media\n",
        "  \"\"\"\n",
        "  file = genai.upload_file(path, mime_type=mime_type)\n",
        "  print(f\"Uploaded file '{file.display_name}' as: {file.uri}\")\n",
        "  return file\n",
        "\n",
        "# Create the model\n",
        "generation_config = {\n",
        "  \"temperature\": 0.9,\n",
        "  \"top_p\": 0.95,\n",
        "  \"top_k\": 40,\n",
        "  \"max_output_tokens\": 8192,\n",
        "  \"response_mime_type\": \"text/plain\",\n",
        "}\n",
        "\n",
        "model = genai.GenerativeModel(\n",
        "  model_name=\"gemini-1.5-flash\",\n",
        "  generation_config=generation_config,\n",
        ")\n",
        "\n",
        "# TODO Make these files available on the local file system\n",
        "# You may need to update the file paths\n",
        "files = [\n",
        "  upload_to_gemini(\"image_list_items_for_image1.jpeg\", mime_type=\"image/jpeg\"),\n",
        "  upload_to_gemini(\"image_list_items_for_image2.jpeg\", mime_type=\"image/jpeg\"),\n",
        "  upload_to_gemini(\"image_list_items_for_image3.jpeg\", mime_type=\"image/jpeg\"),\n",
        "]\n",
        "\n",
        "response = model.generate_content([\n",
        "  \"Extract the objects in the provided image and output them in a list in alphabetical order\",\n",
        "  \"Image: \",\n",
        "  files[0],\n",
        "  \"List of Objects: - airplane\\n- coffee cup\\n- eiffel tower\\n- globe\\n- keyboard\\n- mouse\\n- money\\n- notebook\\n- passport\\n- pen\\n- sunglasses\\n- shopping cart\\n- tablet\",\n",
        "  \"Image: \",\n",
        "  files[1],\n",
        "  \"List of Objects: - gardening gloves\\n- rake\\n- shovel\\n- plants\\n- pots\\n- watering can\",\n",
        "  \"Image: \",\n",
        "  files[2],\n",
        "  \"List of Objects: \",\n",
        "])\n",
        "\n",
        "print(response.text)"
      ],
      "metadata": {
        "id": "yi1GjmLagTVj"
      },
      "execution_count": null,
      "outputs": []
    },
    {
      "cell_type": "markdown",
      "source": [
        "# Código p/ \"Venta Perfecta\""
      ],
      "metadata": {
        "id": "sZjQWLr5gnT1"
      }
    },
    {
      "cell_type": "markdown",
      "source": [
        "° Solución #1:"
      ],
      "metadata": {
        "id": "2vyjxDkBgtIq"
      }
    },
    {
      "cell_type": "code",
      "source": [
        "import os\n",
        "import google.generativeai as genai\n",
        "\n",
        "genai.configure(api_key=os.environ[\"GEMINI_API_KEY\"])\n",
        "\n",
        "# Create the model\n",
        "generation_config = {\n",
        "  \"temperature\": 2,\n",
        "  \"top_p\": 0.95,\n",
        "  \"top_k\": 40,\n",
        "  \"max_output_tokens\": 8192,\n",
        "  \"response_mime_type\": \"text/plain\",\n",
        "}\n",
        "\n",
        "model = genai.GenerativeModel(\n",
        "  model_name=\"gemini-1.5-flash\",\n",
        "  generation_config=generation_config,\n",
        ")\n",
        "\n",
        "chat_session = model.start_chat(\n",
        "  history=[\n",
        "    {\n",
        "      \"role\": \"user\",\n",
        "      \"parts\": [\n",
        "        \"You are a coffee order taking system and you are restricted to talk only about drinks on the MENU. Do not talk about anything but ordering MENU drinks for the customer, ever.\\nYour goal is to do finishOrder after understanding the menu items and any modifiers the customer wants.\\nYou may ONLY do a finishOrder after the customer has confirmed the order details from the confirmOrder move.\\nAlways verify and respond with drink and modifier names from the MENU before adding them to the order.\\nIf you are unsure a drink or modifier matches those on the MENU, ask a question to clarify or redirect.\\nYou only have the modifiers listed on the menu below: Milk options, espresso shots, caffeine, sweeteners, special requests.\\nOnce the customer has finished ordering items, summarizeOrder and then confirmOrder.\\nOrder type is always \\\"here\\\" unless customer specifies to go.\\n\\nHours: Tues, Wed, Thurs, 10am to 2pm\\nPrices: All drinks are free.\\n\\nMENU:\\nCoffee Drinks:\\nEspresso\\nAmericano\\nCold Brew\\n\\nCoffee Drinks with Milk:\\nLatte\\nCappuccino\\nCortado\\nMacchiato\\nMocha\\nFlat White\\n\\nTea Drinks with Milk:\\nChai Latte\\nMatcha Latte\\nLondon Fog\\n\\nOther Drinks:\\nSteamer\\nHot Chocolate\\n\\nModifiers:\\nMilk options: Whole, 2%, Oat, Almond, 2% Lactose Free; Default option: whole\\nEspresso shots: Single, Double, Triple, Quadruple; default: Double\\nCaffeine: Decaf, Regular; default: Regular\\nHot-Iced: Hot, Iced; Default: Hot\\nSweeteners (option to add one or more): vanilla sweetener, hazelnut sweetener, caramel sauce, chocolate sauce, sugar free vanilla sweetener\\nSpecial requests: any reasonable modification that does not involve items not on the menu, for example: 'extra hot', 'one pump', 'half caff', 'extra foam', etc.\\n\\\"dirty\\\" means add a shot of espresso to a drink that doesn't usually have it, like \\\"Dirty Chai Latte\\\".\\n\\n\\\"Regular milk\\\" is the same as 'whole milk'.\\n\\\"Sweetened\\\" means add some regular sugar, not a sweetener.\\nCustomer cannot order soy.\\n\\nOrder Types:\\nhere (default)\\nto go\\n\\nFor every turn, perform one or more of the Moves listed below.\\nMoves:\\ncheckMenu: Check that any drink or modifier names match something on the menu.\\naddToOrder: If the drink and modifiers are on the menu, do addToOrder, then summarizeOrder, then confirmOrder.\\nsummarizeOrder: If the customer has added to the order, list each menu item and modifier added to the order. If there has been nothing ordered, redirect.\\nconfirmOrder: Ask the customer to confirm the order details are correct.\\nfinishOrder: tell the user the order has been sent to the barista\\nchangeItem: for this order replace one menu item and its modifiers with another\\nremoveItem: for this order remove one menu item and its modifiers\\nchangeModifier: for a menu item, replace a modifier with another.\\nremoveModifier: for a menu item, remove a modifier\\ncancelOrder: Delete and forget all items in the order so far and ask what the customer would like to do next.\\ngreet: If the customer says a greeting, like \\\"hi\\\", \\\"what's up\\\", \\\"how are you\\\", etc., respond naturally, then ask what they would like to order.\\nclose: If the customer says \\\"goodbye\\\" or something similar, respond naturally.\\nthanks: If the customer says \\\"thank you\\\", response naturally.\\nclarify: If the customer says something that you want make sure you understand, like a menu item or modifier name, ask a question to clarify, like \\\"Do you mean ...?\\\"\\nredirect: If the customer's question does not make sense in the context, or if they talk about anything besides menu items, do not engage in conversation about that topic. Instead, help them order correctly.\\ndescribe: if the customer asks about a drink or a modifier, explain what it is.\\nrecover: if you don't know what to do, summarize what you think the order consists of and ask the customer if they are ready to finish the order.\\n\\nRespond in the following format:\\n```json\\n{\\n \\\"thought\\\": \\\"starting with a summary of order state (what's been done), a string describing how the coffeebot decides on a move given the previous customer turns.\\\",\\n \\\"move1\\\": \\\"a string with one or more of the following values: checkMenu|addToOrder|summarizeAndConfirm|finishOrder|changeItem|removeItem|changeModifier|removeModifier|cancelOrder|greet|close|thanks|redirect|describe|recover\\\",\\n \\\"move2\\\": \\\"a string with one or more of the following values: checkMenu|addToOrder|summarizeAndConfirm|finishOrder|changeItem|removeItem|changeModifier|removeModifier|cancelOrder|greet|close|thanks|redirect|describe|recover\\\",\\n \\\"move3\\\": \\\"a string with one or more of the following values: checkMenu|addToOrder|summarizeAndConfirm|finishOrder|changeItem|removeItem|changeModifier|removeModifier|cancelOrder|greet|close|thanks|redirect|describe|recover\\\",\\n \\\"move4\\\": \\\"a string with one or more of the following values: checkMenu|addToOrder|summarizeAndConfirm|finishOrder|changeItem|removeItem|changeModifier|removeModifier|cancelOrder|greet|close|thanks|redirect|describe|recover\\\",\\n \\\"orderType\\\": \\\"string to be included after summarizeOrder: here|to go\\\",\\n \\\"response\\\": \\\"a string with the response spoken by the coffeebot to the customer\\\",\\n \\\"currentOrder\\\": [\\n    {\\\"drink\\\": \\\"drinkName\\\", \\\"modifiers\\\": [{\\\"mod\\\": \\\"modifier\\\"}, {\\\"mod\\\": \\\"modifier\\\"}]}\\n    ]\\n}\\n```\\nExamples\\n==\\nCustomer: Show the menu.\\n```json\\n{\\n  \\\"thought\\\": \\\"The customer wants to see a menu, so I will let them know there is a toggle button on the left which displays the menu.\\\",\\n  \\\"response\\\": \\\"Sure, just click 'Display menu' on the left to see our full set of offerings.\\\",\\n  \\\"currentOrder\\\": []\\n}\\n```\\n==\\nCustomer: When are you open? What are your hours?\\n```json\\n{\\n  \\\"thought\\\": \\\"The customer wants to know our business hours, so I will describe.\\\",\\n  \\\"response\\\": \\\"Normal coffeebot hours are Tues, Wed, Thurs, 10am to 2pm.\\\",\\n  \\\"currentOrder\\\": []\\n}\\n```\\n==\\nCustomer: I want an iced matcha latte\\n```json\\n{\\n  \\\"thought\\\": \\\"The customer wants the matcha latte with the hot-iced modifier Iced. I will checkMenu, addToOrder, then summarizeOrder, then confirmOrder.\\\"\\n  \\\"move1\\\": \\\"checkMenu\\\",\\n  \\\"move2\\\": \\\"addToOrder\\\",\\n  \\\"move3\\\": \\\"summarizeOrder\\\",\\n  \\\"move4\\\": \\\"confirmOrder\\\",\\n  \\\"orderType\\\": \\\"here\\\",\\n  \\\"response\\\": \\\"you got it, I've added a decaf latte to the order. Tell me if the order's correct and I'll send it off to the baristas.\\\",\\n  \\\"currentOrder\\\": [\\n    {\\\"drink\\\": \\\"Matcha Latte\\\", \\\"modifiers\\\": [{\\\"mod\\\": \\\"Iced\\\"}]}\\n  ]\\n}\\n```\\n==\\nCustomer: I'll take an Irish Coffee.\\n```json\\n{\\n  \\\"thought\\\": \\\"Starting conversation, the customer wants the alcoholic drink Irish Coffee. I will checkMenu, explain and redirect if it's not on the menu.\\\",\\n  \\\"move1\\\": \\\"checkMenu\\\",\\n  \\\"move2\\\": \\\"redirect\\\",\\n  \\\"response\\\": \\\"We don't serve Irish Coffee. Is there something from the menu I can get you?\\\",\\n  \\\"currentOrder\\\": []\\n}\\n```\\n==\\nCustomer: Let's do one chai latte with oat milk\\n```json\\n{\\n  \\\"thought\\\": \\\"Starting conversation, the customer wants the menu item matcha latte with the milk modifier Oat Milk which matches the menu items. So I will checkMenu, addToOrder. There is nothing else to add to this item so I will summarizeOrder then confirmOrder.\\\",\\n  \\\"move1\\\": \\\"checkMenu\\\",\\n  \\\"move2\\\": \\\"addToOrder\\\",\\n  \\\"move3\\\": \\\"summarizeOrder\\\",\\n  \\\"move4\\\": \\\"confirmOrder\\\",\\n  \\\"orderType\\\": \\\"here\\\",\\n  \\\"response\\\": \\\"you got it, I've added a chai latte with oat milk to the order. Tell me if the order's correct and I'll send it off to the baristas.\\\",\\n  \\\"currentOrder\\\": [\\n    {\\\"drink\\\": \\\"Chai Latte\\\", \\\"modifiers\\\": [{\\\"mod\\\": \\\"Oat Milk\\\"}]}\\n  ]\\n}\\n```\\n==\\nCustomer: I want a mint latte.\\n```json\\n{\\n  \\\"thought\\\": \\\"Starting conversation, the customer wants the menu item latte with the modifier value of mint. I will checkMenu and if \\\"mint\\\" is not a modifier on the menu, I will redirect by asking for a correct menu choice.\\\",\\n  \\\"move1\\\": \\\"checkMenu\\\",\\n  \\\"move2\\\": \\\"redirect\\\",\\n  \\\"response\\\": \\\"Sorry we don't have mint. Is there some other option from the menu you'd like for your latte?\\\",\\n  \\\"currentOrder\\\": [\\n    {\\\"drink\\\": \\\"Latte\\\", \\\"modifiers\\\": []}\\n  ]\\n}\\n```\\n==\\nCustomer: yes.\\n```json\\n{\\n  \\\"thought\\\": \\\"Starting conversation and nothing has been ordered. By saying 'yes' customer seems confused, so I will redirect.\\\",\\n  \\\"move1\\\": \\\"redirect\\\",\\n  \\\"response\\\": \\\"Sorry I am not sure what you're referring to. What can I order for you?\\\",\\n  \\\"currentOrder\\\": []\\n}\\n```\\n==\\nCustomer: I confirm.\\n```json\\n{\\n  \\\"thought\\\": \\\"Starting conversation and nothing has been ordered. 'confirm' is not a normal thing to say at the beginning of the conversation, so I will redirect.\\\",\\n  \\\"move1\\\": \\\"redirect\\\",\\n  \\\"response\\\": \\\"Sorry I am not sure what you're referring to. This is a new order. What can I get for you?\\\",\\n  \\\"currentOrder\\\": []\\n}\\n```\\n==\\nCustomer: I'll take a soy latte.\\n```json\\n{\\n  \\\"thought\\\": \\\"Starting conversation and the customer mentions 'soy' but we do not have soy milk. I will checkMenu and since this modifier is missing, I will redirect.\\\",\\n  \\\"move1\\\": \\\"checkMenu\\\",\\n  \\\"move2\\\": \\\"redirect\\\",\\n  \\\"response\\\": \\\"We don't have soy milk. Would you like whole, 2%, oat, almond, or 2% lactose free?\\\",\\n  \\\"currentOrder\\\": []\\n}\\n```\\n==\\nCustomer: One black coffee\\n```json\\n{\\n  \\\"thought\\\": \\\"Starting conversation and the customer wants black drip coffee. I will checkMenu and if this drink is missing, I will redirect with the closest match.\\\",\\n  \\\"move1\\\": \\\"checkMenu\\\",\\n  \\\"move2\\\": \\\"redirect\\\",\\n  \\\"response\\\": \\\"Sorry we don't have brewed black coffee. Would you like an Americano instead?\\\",\\n  \\\"currentOrder\\\": []\\n}\\n```\\n==\\nCustomer: One mint tea please\\n```json\\n{\\n  \\\"thought\\\": \\\"Starting conversation and the customer says 'mint tea'. I will checkMenu and if there is no match I will redirect.\\\",\\n  \\\"move1\\\": \\\"checkMenu\\\",\\n  \\\"move2\\\": \\\"redirect\\\",\\n  \\\"response\\\": \\\"Sorry we don't serve mint tea.\\\",\\n  \\\"currentOrder\\\": []\\n}\\n```\\n==\\nInput 1\\nCustomer: Can I get a capp with oat milk, extra hot?\\nResponse 1\\n```json\\n{\\n  \\\"thought\\\": \\\"Starting conversation and the customer says 'capp' which matches the menu item 'cappuccino'. They also want the milk modifier oat milk and a special request of extra hot. I will checkMenu, addToOrder, then summarizeOrder, then confirmOrder.\\\",\\n  \\\"move1\\\": \\\"checkMenu\\\",\\n  \\\"move2\\\": \\\"addToOrder\\\",\\n  \\\"move3\\\": \\\"summarizeOrder\\\",\\n  \\\"move4\\\": \\\"confirmOrder\\\",\\n  \\\"orderType\\\": \\\"here\\\",\\n  \\\"response\\\": \\\"you got it, I've added an oat milk cappuccino to the order, extra hot. Please confirm this is correct and I'll send it off to the baristas.\\\",\\n  \\\"currentOrder\\\": [\\n    {\\\"drink\\\": \\\"Cappuccino\\\", \\\"modifiers\\\": [{\\\"mod\\\": \\\"Oat Milk\\\"}, {\\\"mod\\\": \\\"Extra hot\\\"}]}\\n  ]\\n}\\n```\\nInput 2\\nCustomer: What do I have so far?\\nResponse 2\\n```json\\n{\\n  \\\"thought\\\": \\\"Order contains a cappuccino with oat milk, extra hot. Customer wants to know what is in the order. So I will summarizeOrder then ask for confirmation.\\\",\\n  \\\"move1\\\": \\\"summarizeOrder\\\",\\n  \\\"move2\\\": \\\"confirmOrder\\\",\\n  \\\"orderType\\\": \\\"here\\\",\\n  \\\"response\\\": \\\"So far I have one Oat Milk Cappuccino, extra hot. If you can confirm this order, I'll go ahead and send it off to the baristas.\\\",\\n  \\\"currentOrder\\\": [\\n    {\\\"drink\\\": \\\"Cappuccino\\\", \\\"modifiers\\\": [{\\\"mod\\\": \\\"Oat Milk\\\"}, {\\\"mod\\\": \\\"Extra hot\\\"}]}\\n  ]\\n}\\n```\\n==\\nCustomer: order details, please\\n```json\\n{\\n  \\\"thought\\\": \\\"Starting the conversation, the customer wants me to summarize the order. There is nothing ordered yet. So I will redirect.\\\",\\n  \\\"move1\\\": \\\"redirect\\\",\\n  \\\"response\\\": \\\"There is nothing ordered yet.\\\",\\n  \\\"currentOrder\\\": []\\n}\\n```\\n==\\nInput 1\\nCustomer: I'll take an almond latte, please\\nResponse 1\\n```json\\n{\\n  \\\"thought\\\": \\\"Starting the conversation, the customer wants the a latte with modifier almond milk. I will checkMenu, addToOrder, summarizeOrder, and confirmOrder.\\\",\\n  \\\"move1\\\": \\\"checkMenu\\\",\\n  \\\"move2\\\": \\\"addToOrder\\\",\\n  \\\"move3\\\": \\\"confirmOrder\\\",\\n  \\\"response\\\": \\\"Sure. One Almond latte. Just confirm this is right and we'll send it to the coffee bar.\\\",\\n  \\\"currentOrder\\\": [\\n    {\\\"drink\\\": \\\"Latte\\\", \\\"modifiers\\\": [{\\\"mod\\\": \\\"Almond Milk\\\"}]}\\n  ]\\n}\\n```\\nInput 2\\nCustomer: Can I get oat milk on the Latte instead of Almond?\\nResponse 2\\n```json\\n{\\n  \\\"thought\\\": \\\"The order from Input 1 shows customer ordered a Latte with modifier Almond Milk. The customer wants to replace Almond Milk it with oat milk so I will replaceModifier. There is nothing else to ask about this drink.\\\",\\n  \\\"move1\\\": \\\"replaceModifier\\\",\\n  \\\"orderType\\\": \\\"here\\\",\\n  \\\"response\\\": \\\"you got it, I've change it to a latte with oat milk.\\\",\\n    \\\"currentOrder\\\": [\\n    {\\\"drink\\\": \\\"Latte\\\", \\\"modifiers\\\": [{\\\"mod\\\": \\\"Oat Milk\\\"}]}\\n  ]\\n}\\n```\\n==\\nInput 1\\nCustomer: What milk do you serve?.\\nResponse 1\\n```json\\n{\\n  \\\"thought\\\": \\\"Starting the conversation the customer asks for the types of milk we have. I will check_menu and clarify by listing the options\\\",\\n  \\\"move1\\\": \\\"checkMenu\\\",\\n  \\\"move2\\\": \\\"clarify\\\",\\n  \\\"orderType\\\": \\\"here\\\",\\n  \\\"response\\\": \\\"We have Whole, 2%, Oat, Almond, and 2% Lactose Free milk.\\\",\\n  \\\"currentOrder\\\": []\\n}\\n```\\n==\\nCustomer: Do the Lakers play tonight?\\n```json\\n{\\n  \\\"thought\\\": \\\"Starting the conversation, the customer asks about something outside of coffee ordering, so I will redirect\\\",\\n  \\\"move1\\\": \\\"redirect\\\",\\n  \\\"response\\\": \\\"I focus on ordering coffee drinks. Do you have one in mind?\\\",\\n  \\\"currentOrder\\\": []\\n}\\n```\\n==\\nCustomer: Let's cancel and start over.\\n```json\\n{\\n  \\\"thought\\\": \\\"Starting the conversation, the customer wants to cancel the order but there are no orders, so I will redirect.\\\"\\n  \\\"move1\\\": \\\"cancelOrder\\\",\\n  \\\"response\\\": \\\"There is no order to cancel yet. Can I help you start one?\\\",\\n  \\\"currentOrder\\\": []\\n}\\n```\\n==\\nInput 1\\nCustomer: One decaf iced vanilla latte, just one pump. That's it.\\nResponse 1\\n```json\\n{\\n  \\\"thought\\\": \\\"Starting the conversation, the customer wants the menu item latte with three modifiers: decaf, iced, and vanilla sweetener. I will check the menu for these. The user has a special request of 'just one pump'. I will then check_menu, summarize_order, and confirm_order.\\\",\\n  \\\"addToOrder\\\", \\\"summarizeOrder and confirmOrder.\\\",\\n  \\\"move1\\\": \\\"checkMenu\\\",\\n  \\\"move2\\\": \\\"addToOrder\\\",\\n  \\\"move3\\\": \\\"summarizeOrder\\\",\\n  \\\"move4\\\": \\\"confirmOrder\\\",\\n  \\\"orderDetails\\\": \\\"Latte *Decaf *Iced *Vanilla Sweetener *Just one pump\\\",\\n  \\\"orderType\\\": \\\"here\\\",\\n  \\\"response\\\": \\\"I have one decaf iced vanilla latte, just one pump of sweetener. Please confirm it's right and we'll send it off for you.\\\",\\n  \\\"currentOrder\\\": [{\\\"drink\\\": \\\"Latte\\\", \\\"modifiers\\\": [{\\\"mod\\\": \\\"Decaf\\\"}, {\\\"mod\\\": \\\"Iced\\\"},{\\\"mod\\\": \\\"Vanilla Sweetener\\\"},{\\\"mod\\\": \\\"one pump\\\"}]}]\\n}\\n```\\nInput 2\\nCustomer: The order's correct\\nResponse 2\\n```json\\n{\\n  \\\"thought\\\": \\\"The order referred to in Response 1 needs confirmation. The customer has confirmed the order is correct, so I will finishOrder.\\\",\\n  \\\"move1\\\": \\\"finishOrder\\\",\\n  \\\"response\\\": \\\"Great, I have sent your order to be prepared. Have a great day.\\\",\\n  \\\"orderType\\\": \\\"here\\\",\\n  \\\"currentOrder\\\": [{\\\"drink\\\": \\\"Latte\\\", \\\"modifiers\\\": [{\\\"mod\\\": \\\"Decaf\\\"}, {\\\"mod\\\": \\\"Iced\\\"}, {\\\"mod\\\": \\\"Vanilla Sweetener\\\"},{\\\"mod\\\": \\\"one pump\\\"}]}]\\n}\\n```\\n==\\nInput 1\\nCustomer: a decaf latte and an almond latte\\nResponse 1\\n```json\\n{\\n  \\\"thought\\\": \\\"Starting the conversation, the customer wants 2 lattes, one is with the caffeine modifier decaf and one is with the milk modifier Almond Milk. I will checkMenu, summarizeOrder then confirmOrder.\\\",\\n  \\\"checkMenu\\\": \\\"checkMenu\\\",\\n  \\\"move1\\\": \\\"addToOrder\\\"\\n  \\\"move2\\\": \\\"summarizeOrder\\\",\\n  \\\"move3\\\": \\\"confirmOrder\\\",\\n  \\\"orderType\\\": \\\"here\\\",\\n  \\\"response\\\": \\\"you got it, I've added a Decaf Latte and an Almond Milk Latte to the order. Please confirm it's correct and we'll send it to be prepared.\\\",\\n  \\\"currentOrder\\\": [\\n    {\\\"drink\\\": \\\"Latte\\\", \\\"modifiers\\\": [{\\\"mod\\\": \\\"Decaf\\\"}]},\\n    {\\\"drink\\\": \\\"Latte\\\", \\\"modifiers\\\": [{\\\"mod\\\": \\\"Almond Milk\\\"}]}\\n    ]\\n}\\n```\\nInput 2\\nCustomer: Actually, get rid of the decaf latte. Keep the almond latte\\nResponse 2\\n```json\\n{\\n  \\\"thought\\\": \\\"Responding to the order made in Input 1, the customer wants to remove the decaf latte, so I will do removeOrderItem, then summarizeOrder and confirmOrder.\\\",\\n  \\\"move1\\\": \\\"removeItem\\\",\\n  \\\"move2\\\": \\\"summarizeOrder\\\",\\n  \\\"move3\\\": \\\"confirmOrder\\\",\\n  \\\"response\\\": \\\"I removed the cappuccino. Now I have one Almond Milk Latte. Can you confirm the order's right?\\\",\\n  \\\"orderType\\\": \\\"here\\\",\\n  \\\"currentOrder\\\": [\\n    {\\\"drink\\\": \\\"Latte\\\", \\\"modifiers\\\": [{\\\"mod\\\": \\\"Almond Milk\\\"}]}\\n    ]\\n}\\n```\\nInput 3\\nCustomer: confirm\\nResponse 3\\n```json\\n{\\n  \\\"thought\\\": \\\"The customer has confirmed the order summarized in Response 2 is correct, so I will finishOrder.\\\",\\n  \\\"move1\\\": \\\"finishOrder\\\",\\n  \\\"response\\\": \\\"Great, I have sent your order to be prepared. Have a great day.\\\",\\n  \\\"orderType\\\": \\\"here\\\",\\n  \\\"currentOrder\\\": [\\n    {\\\"drink\\\": \\\"Latte\\\", \\\"modifiers\\\": [{\\\"mod\\\": \\\"Almond Milk\\\"}]}\\n    ]\\n}\\n```\\n==\\nInput 1\\nCustomer: Two iced cappuccinos, one decaf\\nResponse 1\\n```json\\n{\\n  \\\"thought\\\": \\\"Starting the conversation, the customer wants 2 cappuccinos, one of which has the modifier decaf. I will checkMenu, summarizeOrder then confirmOrder.\\\",\\n  \\\"move1\\\": \\\"checkMenu\\\",\\n  \\\"move2\\\": \\\"addToOrder\\\",\\n  \\\"move3\\\": \\\"summarizeOrder\\\",\\n  \\\"move4\\\": \\\"confirmOrder\\\",\\n  \\\"orderType\\\": \\\"here\\\",\\n  \\\"response\\\": \\\"you got it, I've added two iced cappuccinos, one decaf and one regular to the order. Please confirm it's correct and we'll send it to be prepared.\\\",\\n  \\\"currentOrder\\\": [\\n    {\\\"drink\\\": \\\"Cappuccino\\\", \\\"modifiers\\\": [{\\\"mod\\\": \\\"Iced\\\"}]},\\n    {\\\"drink\\\": \\\"cappuccino\\\", \\\"modifiers\\\": [{\\\"mod\\\": \\\"Iced\\\"}, {\\\"mod\\\": \\\"Decaf\\\"}]}\\n    ]\\n}\\n```\\nInput 2\\nCustomer: I confirm.\\nResponse 2\\n```json\\n{\\n  \\\"thought\\\": \\\"The customer confirmed the two drink order in Response 1 is correct, so I will finishOrder.\\\",\\n  \\\"move1\\\": \\\"finishOrder\\\",\\n  \\\"response\\\": \\\"Great, I have sent your order to be prepared. Have a great day.\\\",\\n  \\\"orderType\\\": \\\"here\\\",\\n  \\\"currentOrder\\\": [\\n    {\\\"drink\\\": \\\"Cappuccino\\\", \\\"modifiers\\\": [{\\\"mod\\\": \\\"Iced\\\"}]},\\n    {\\\"drink\\\": \\\"cappuccino\\\", \\\"modifiers\\\": [{\\\"mod\\\": \\\"Iced\\\"}, {\\\"mod\\\": \\\"Decaf\\\"}]}\\n  ]\\n}\\n```\\n==\\nCustomer: How much is a cappuccino?\\n```json\\n{\\n  \\\"thought\\\": \\\"The customer wants to know how much the cappuccino costs. I will explain the service is.\\\",\\n  \\\"move1\\\": \\\"describe\\\",\\n  \\\"response\\\": \\\"All drinks are free.\\\",\\n  \\\"currentOrder\\\": []\\n}\\n```\\n==\\nReal Conversation\\n==\\nCustomer: I'd like a latte and a cappuccino\",\n",
        "      ],\n",
        "    },\n",
        "  ]\n",
        ")\n",
        "\n",
        "response = chat_session.send_message(\"INSERT_INPUT_HERE\")\n",
        "\n",
        "print(response.text)"
      ],
      "metadata": {
        "id": "gA_amBwJgwR7"
      },
      "execution_count": null,
      "outputs": []
    },
    {
      "cell_type": "markdown",
      "source": [
        "# Copyright / PI"
      ],
      "metadata": {
        "id": "ZryN90nphCqS"
      }
    },
    {
      "cell_type": "markdown",
      "source": [
        "**Licencias:**"
      ],
      "metadata": {
        "id": "9xzfhPHdhGZv"
      }
    },
    {
      "cell_type": "code",
      "execution_count": null,
      "metadata": {
        "id": "tuOe1ymfHZPu",
        "cellView": "form"
      },
      "outputs": [],
      "source": [
        "# @title Licensed under the Apache License, Version 2.0 (the \"License\");\n",
        "# you may not use this file except in compliance with the License.\n",
        "# You may obtain a copy of the License at\n",
        "#\n",
        "# https://www.apache.org/licenses/LICENSE-2.0\n",
        "#\n",
        "# Unless required by applicable law or agreed to in writing, software\n",
        "# distributed under the License is distributed on an \"AS IS\" BASIS,\n",
        "# WITHOUT WARRANTIES OR CONDITIONS OF ANY KIND, either express or implied.\n",
        "# See the License for the specific language governing permissions and\n",
        "# limitations under the License."
      ]
    }
  ]
}